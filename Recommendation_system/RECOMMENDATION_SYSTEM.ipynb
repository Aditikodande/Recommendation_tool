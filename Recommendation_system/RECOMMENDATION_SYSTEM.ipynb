{
  "nbformat": 4,
  "nbformat_minor": 0,
  "metadata": {
    "colab": {
      "provenance": []
    },
    "kernelspec": {
      "name": "python3",
      "display_name": "Python 3"
    },
    "language_info": {
      "name": "python"
    }
  },
  "cells": [
    {
      "cell_type": "code",
      "execution_count": null,
      "metadata": {
        "colab": {
          "base_uri": "https://localhost:8080/"
        },
        "id": "ZGk8va7qeR9n",
        "outputId": "3b6172ed-5171-4f8d-cf80-e352deaf01e0"
      },
      "outputs": [
        {
          "output_type": "stream",
          "name": "stdout",
          "text": [
            "Requirement already satisfied: numpy in /usr/local/lib/python3.11/dist-packages (2.0.2)\n",
            "Requirement already satisfied: pandas in /usr/local/lib/python3.11/dist-packages (2.2.2)\n",
            "Requirement already satisfied: scikit-learn in /usr/local/lib/python3.11/dist-packages (1.6.1)\n",
            "Requirement already satisfied: matplotlib in /usr/local/lib/python3.11/dist-packages (3.10.0)\n",
            "Requirement already satisfied: python-dateutil>=2.8.2 in /usr/local/lib/python3.11/dist-packages (from pandas) (2.8.2)\n",
            "Requirement already satisfied: pytz>=2020.1 in /usr/local/lib/python3.11/dist-packages (from pandas) (2025.2)\n",
            "Requirement already satisfied: tzdata>=2022.7 in /usr/local/lib/python3.11/dist-packages (from pandas) (2025.2)\n",
            "Requirement already satisfied: scipy>=1.6.0 in /usr/local/lib/python3.11/dist-packages (from scikit-learn) (1.14.1)\n",
            "Requirement already satisfied: joblib>=1.2.0 in /usr/local/lib/python3.11/dist-packages (from scikit-learn) (1.4.2)\n",
            "Requirement already satisfied: threadpoolctl>=3.1.0 in /usr/local/lib/python3.11/dist-packages (from scikit-learn) (3.6.0)\n",
            "Requirement already satisfied: contourpy>=1.0.1 in /usr/local/lib/python3.11/dist-packages (from matplotlib) (1.3.1)\n",
            "Requirement already satisfied: cycler>=0.10 in /usr/local/lib/python3.11/dist-packages (from matplotlib) (0.12.1)\n",
            "Requirement already satisfied: fonttools>=4.22.0 in /usr/local/lib/python3.11/dist-packages (from matplotlib) (4.57.0)\n",
            "Requirement already satisfied: kiwisolver>=1.3.1 in /usr/local/lib/python3.11/dist-packages (from matplotlib) (1.4.8)\n",
            "Requirement already satisfied: packaging>=20.0 in /usr/local/lib/python3.11/dist-packages (from matplotlib) (24.2)\n",
            "Requirement already satisfied: pillow>=8 in /usr/local/lib/python3.11/dist-packages (from matplotlib) (11.1.0)\n",
            "Requirement already satisfied: pyparsing>=2.3.1 in /usr/local/lib/python3.11/dist-packages (from matplotlib) (3.2.3)\n",
            "Requirement already satisfied: six>=1.5 in /usr/local/lib/python3.11/dist-packages (from python-dateutil>=2.8.2->pandas) (1.17.0)\n"
          ]
        }
      ],
      "source": [
        "#Install Required Libraries\n",
        "!pip install numpy pandas scikit-learn matplotlib\n"
      ]
    },
    {
      "cell_type": "code",
      "source": [
        "# Import Necessary Libraries\n",
        "import pandas as pd\n",
        "import numpy as np\n",
        "from sklearn.decomposition import TruncatedSVD\n",
        "from sklearn.metrics import mean_squared_error\n",
        "import matplotlib.pyplot as plt\n"
      ],
      "metadata": {
        "id": "P_wgqrjTehM2"
      },
      "execution_count": null,
      "outputs": []
    },
    {
      "cell_type": "code",
      "source": [
        "#Load and Prepare the Dataset\n",
        "import pandas as pd\n",
        "\n",
        "# Load u.data (tab-separated)\n",
        "df = pd.read_csv('/content/u.data', sep='\\t', names=['userId', 'movieId', 'rating', 'timestamp'])\n",
        "\n",
        "# Preview\n",
        "print(df.head())\n"
      ],
      "metadata": {
        "id": "_CxdfXvIe9uA",
        "colab": {
          "base_uri": "https://localhost:8080/"
        },
        "outputId": "77c697b3-3436-4d31-cc1c-4b4e5073c933"
      },
      "execution_count": null,
      "outputs": [
        {
          "output_type": "stream",
          "name": "stdout",
          "text": [
            "   userId  movieId  rating  timestamp\n",
            "0     196      242       3  881250949\n",
            "1     186      302       3  891717742\n",
            "2      22      377       1  878887116\n",
            "3     244       51       2  880606923\n",
            "4     166      346       1  886397596\n"
          ]
        }
      ]
    },
    {
      "cell_type": "code",
      "source": [
        "#Create the User-Item Matrix\n",
        "# Pivot into user-item matrix\n",
        "user_item_matrix = df.pivot_table(index='userId', columns='movieId', values='rating')\n",
        "\n",
        "# Fill missing values with 0\n",
        "user_item_matrix_filled = user_item_matrix.fillna(0)\n",
        "\n",
        "# Optional: Convert to sparse matrix for efficiency\n",
        "from scipy.sparse import csr_matrix\n",
        "user_item_sparse = csr_matrix(user_item_matrix_filled.values)\n"
      ],
      "metadata": {
        "id": "iwFOYoTVi34J"
      },
      "execution_count": null,
      "outputs": []
    },
    {
      "cell_type": "code",
      "source": [
        "#Apply Matrix Factorization (SVD)\n",
        "from sklearn.decomposition import TruncatedSVD\n",
        "\n",
        "# Reduce dimensionality using SVD\n",
        "svd = TruncatedSVD(n_components=50, random_state=42)\n",
        "svd_matrix = svd.fit_transform(user_item_sparse)\n",
        "\n",
        "print(\"SVD matrix shape:\", svd_matrix.shape)\n"
      ],
      "metadata": {
        "colab": {
          "base_uri": "https://localhost:8080/"
        },
        "id": "UI4Zrml_tCTO",
        "outputId": "c72a6d6f-5dbe-4060-ce09-1ac5f79a9831"
      },
      "execution_count": null,
      "outputs": [
        {
          "output_type": "stream",
          "name": "stdout",
          "text": [
            "SVD matrix shape: (943, 50)\n"
          ]
        }
      ]
    },
    {
      "cell_type": "code",
      "source": [
        "#make recommendations\n",
        "import numpy as np\n",
        "\n",
        "# Predict ratings by multiplying decomposed matrices\n",
        "predicted_ratings = np.dot(svd_matrix, svd.components_)\n",
        "\n",
        "# Create predicted rating DataFrame\n",
        "predicted_df = pd.DataFrame(predicted_ratings, index=user_item_matrix.index, columns=user_item_matrix.columns)\n",
        "\n",
        "# Recommend top N movies for user 1\n",
        "user_id = 1\n",
        "user_ratings = predicted_df.loc[user_id].sort_values(ascending=False)\n",
        "print(\"Top movie IDs recommended for user 1:\\n\", user_ratings.head(10))\n"
      ],
      "metadata": {
        "id": "CGLjDHHdtosH",
        "outputId": "c66f2c3a-7dca-4cdb-9ca1-1ef2aa14da22",
        "colab": {
          "base_uri": "https://localhost:8080/"
        }
      },
      "execution_count": null,
      "outputs": [
        {
          "output_type": "stream",
          "name": "stdout",
          "text": [
            "Top movie IDs recommended for user 1:\n",
            " movieId\n",
            "176    7.062144\n",
            "89     6.885722\n",
            "127    6.687264\n",
            "100    6.404324\n",
            "268    6.393726\n",
            "12     6.350938\n",
            "246    5.822135\n",
            "257    5.690042\n",
            "168    5.591039\n",
            "216    5.579359\n",
            "Name: 1, dtype: float64\n"
          ]
        }
      ]
    }
  ]
}